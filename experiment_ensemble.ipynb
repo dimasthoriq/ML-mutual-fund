{
 "cells": [
  {
   "cell_type": "code",
   "id": "initial_id",
   "metadata": {
    "collapsed": true,
    "ExecuteTime": {
     "end_time": "2024-10-21T02:30:16.821417Z",
     "start_time": "2024-10-21T02:30:13.121678Z"
    }
   },
   "source": [
    "import torch\n",
    "import numpy as np\n",
    "import os\n",
    "\n",
    "from models import DeepNetwork, DeepEnsemble\n",
    "from utils import *\n",
    "from train import *\n",
    "\n",
    "print(torch.cuda.is_available())"
   ],
   "outputs": [
    {
     "name": "stdout",
     "output_type": "stream",
     "text": [
      "True\n"
     ]
    }
   ],
   "execution_count": 2
  },
  {
   "metadata": {
    "ExecuteTime": {
     "end_time": "2024-10-21T02:30:16.825889Z",
     "start_time": "2024-10-21T02:30:16.821417Z"
    }
   },
   "cell_type": "code",
   "source": [
    "subset2col = {\n",
    "        'flow+fund_mom+sentiment': list(range(56, 60)) + [47],\n",
    "        'fund_ex_mom_flow': [59] + [x for x in range(46, 58) if x not in (list(range(54, 58)) + [47])],\n",
    "        'stock': range(46),\n",
    "        'fund': range(46, 59),\n",
    "        'fund+sentiment': range(46, 60),\n",
    "        'stock+fund': range(59),\n",
    "        'F_r12_2+sentiment': [58, 59],\n",
    "        'stock+sentiment': [59] + list(range(0, 46)),\n",
    "        'stock+fund+sentiment': range(60),\n",
    "        'F_r12_2+flow+sentiment': [47, 58, 59]\n",
    "    }"
   ],
   "id": "802a4b7686174c67",
   "outputs": [],
   "execution_count": 3
  },
  {
   "metadata": {
    "ExecuteTime": {
     "end_time": "2024-10-21T02:30:19.291692Z",
     "start_time": "2024-10-21T02:30:19.275557Z"
    }
   },
   "cell_type": "code",
   "source": [
    "config = {\n",
    "\t'data_path': \"./deep_learning/datasets/CharAll_na_rm_huge_train_variableall4_sentiment_full_new.npz\",\n",
    "\t'split_lists_path': './deep_learning/sampling_folds/random_sampling_folds.npy',\n",
    "\t'subset': 'fund+sentiment',\n",
    "\t'num_layers': 1,\n",
    "\t'hidden_dim': [2**6],\n",
    "\t'dropout': 0.,\n",
    "\t'learning_rate': 0.001,\n",
    "\t'epochs': 512,\n",
    "\t'weighted_loss': False,\n",
    "\t'reg_l1': 0.0,\n",
    "\t'reg_l2': 0.001,\n",
    "\t'batch_size': 300000,\n",
    "\t'criteria': 'Factor_sharpe',\n",
    "\t'ensemble_members': 8,\n",
    "\t'random_seed': 15,\n",
    "\t'device': 'cuda' if torch.cuda.is_available() else 'cpu',\n",
    "\t'num_workers': 4\n",
    "}\n",
    "\n",
    "config['split_lists'] = np.load(config['split_lists_path'], allow_pickle = True)\n",
    "config['input_dim'] = len(subset2col[config['subset']])"
   ],
   "id": "fbf2dd22cac95c33",
   "outputs": [],
   "execution_count": 4
  },
  {
   "metadata": {
    "ExecuteTime": {
     "end_time": "2024-10-21T02:30:20.815350Z",
     "start_time": "2024-10-21T02:30:20.729934Z"
    }
   },
   "cell_type": "code",
   "source": [
    "model = DeepNetwork(config).to(device=config['device'])\n",
    "print(model)"
   ],
   "id": "8e5ece52bc6fe185",
   "outputs": [
    {
     "name": "stdout",
     "output_type": "stream",
     "text": [
      "DeepNetwork(\n",
      "  (hidden_layers): ModuleList(\n",
      "    (0): Linear(in_features=14, out_features=64, bias=True)\n",
      "  )\n",
      "  (output_layer): Linear(in_features=64, out_features=1, bias=True)\n",
      ")\n"
     ]
    }
   ],
   "execution_count": 5
  },
  {
   "metadata": {},
   "cell_type": "code",
   "source": [
    "losses = {}\n",
    "sharpes = {}\n",
    "for subset in subset2col.keys():\n",
    "\tprint('\\nTRAINING FOR SUBSET: {}'.format(subset))\n",
    "\tconfig['subset'] = subset\n",
    "\tconfig['input_dim'] = len(subset2col[config['subset']])\n",
    "\tlosses[subset], sharpes[subset] = run_one_subset(config)"
   ],
   "id": "1072790105e6fa99",
   "outputs": [],
   "execution_count": null
  },
  {
   "metadata": {
    "ExecuteTime": {
     "end_time": "2024-10-21T02:52:25.176141Z",
     "start_time": "2024-10-21T02:46:12.084989Z"
    }
   },
   "cell_type": "code",
   "source": [
    "import pandas as pd\n",
    "result = pd.DataFrame()\n",
    "\n",
    "for subset in subset2col.keys():\n",
    "\tif subset in ['fund+sentiment', 'fund_ex_mom_flow', 'stock+fund']:\n",
    "\t\tresult[subset] = 0.\n",
    "\t\tcontinue\n",
    "\tconfig['subset'] = subset\n",
    "\tconfig['input_dim'] = len(subset2col[config['subset']])\n",
    "\tcrossval_loaders, masks = get_crossval_dataloaders(config['data_path'], config['split_lists'], config['subset'], batch_size=config['batch_size'])\n",
    "\t\n",
    "\tavg_sharpe_fold_ens = 0.\n",
    "\tfor fold in range(len(crossval_loaders)):\n",
    "\t\tmodel_dirs = os.path.join('./Experiments/', config['subset'], 'fold' + str(fold+1))\n",
    "\t\tensemble = DeepEnsemble(config, model_dirs)\n",
    "\t\t\n",
    "\t\tcrossval_loaders, masks = get_crossval_dataloaders(config['data_path'], config['split_lists'], config['subset'], batch_size=config['batch_size'])\n",
    "\t\t_, _, test_loader = crossval_loaders[fold]['dataloaders']\n",
    "\t\tX_test, y_test = unload_data(test_loader)\n",
    "\t\t_, _, test_mask = masks[fold]\n",
    "\t\t\n",
    "\t\tens_pred_test = ensemble.predict(X_test.float().to(config['device']))\n",
    "\t\tsharpe_test = evaluate_sharpe(ens_pred_test, y_test, test_mask)\n",
    "\t\t# print(sharpe_test)\n",
    "\t\tavg_sharpe_fold_ens += sharpe_test\n",
    "\t\n",
    "\tavg_sharpe_fold_ens /= len(crossval_loaders)\n",
    "\tprint(f'Avg. Sharpe Test for {subset}: {avg_sharpe_fold_ens:.4f}')\n",
    "\tresult[subset] = avg_sharpe_fold_ens"
   ],
   "id": "a9facfea55596a11",
   "outputs": [
    {
     "name": "stdout",
     "output_type": "stream",
     "text": [
      "Avg. Sharpe Test for flow+fund_mom+sentiment: 0.2546\n",
      "Avg. Sharpe Test for stock: 0.0284\n",
      "Avg. Sharpe Test for fund: 0.2750\n",
      "Avg. Sharpe Test for F_r12_2+sentiment: 0.2334\n",
      "Avg. Sharpe Test for stock+sentiment: 0.0792\n",
      "Avg. Sharpe Test for stock+fund+sentiment: 0.1870\n",
      "Avg. Sharpe Test for F_r12_2+flow+sentiment: 0.1410\n"
     ]
    }
   ],
   "execution_count": 12
  },
  {
   "metadata": {},
   "cell_type": "code",
   "outputs": [],
   "execution_count": null,
   "source": "",
   "id": "7bd00a08d5de7b57"
  }
 ],
 "metadata": {
  "kernelspec": {
   "display_name": "Python 3",
   "language": "python",
   "name": "python3"
  },
  "language_info": {
   "codemirror_mode": {
    "name": "ipython",
    "version": 2
   },
   "file_extension": ".py",
   "mimetype": "text/x-python",
   "name": "python",
   "nbconvert_exporter": "python",
   "pygments_lexer": "ipython2",
   "version": "2.7.6"
  }
 },
 "nbformat": 4,
 "nbformat_minor": 5
}
