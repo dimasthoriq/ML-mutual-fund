{
 "cells": [
  {
   "cell_type": "code",
   "id": "initial_id",
   "metadata": {
    "collapsed": true,
    "ExecuteTime": {
     "end_time": "2024-10-12T06:42:36.176051Z",
     "start_time": "2024-10-12T06:42:36.128170Z"
    }
   },
   "source": [
    "import torch\n",
    "import pandas as pd\n",
    "import numpy as np\n",
    "import matplotlib.pyplot as plt\n",
    "import seaborn as sns\n",
    "import os\n",
    "import time\n",
    "import datetime\n",
    "\n",
    "from models import DeepNetwork, DeepEnsemble\n",
    "from utils import evaluate_sharpe, get_crossval_dataloaders, unload_data\n",
    "from train import training, validate, train_ensembles, run_all_subsets\n",
    "\n",
    "print(torch.cuda.is_available())"
   ],
   "outputs": [
    {
     "name": "stdout",
     "output_type": "stream",
     "text": [
      "True\n"
     ]
    }
   ],
   "execution_count": 8
  },
  {
   "metadata": {
    "ExecuteTime": {
     "end_time": "2024-10-06T08:58:02.876791Z",
     "start_time": "2024-10-06T08:58:01.749380Z"
    }
   },
   "cell_type": "code",
   "source": [
    "data_path = \"./deep_learning/datasets/CharAll_na_rm_huge_train_variableall4_sentiment_full_new.npz\"\n",
    "split_lists = np.load('./deep_learning/sampling_folds/random_sampling_folds.npy', allow_pickle = True)\n",
    "dataset = np.load(data_path)\n",
    "data = dataset['data']"
   ],
   "id": "802a4b7686174c67",
   "outputs": [],
   "execution_count": 23
  },
  {
   "metadata": {},
   "cell_type": "code",
   "outputs": [],
   "execution_count": 2,
   "source": [
    "subset2col = {\n",
    "\t'flow+fund_mom+sentiment': list(range(56, 60))+[47],\n",
    "\t'fund_ex_mom_flow': [59]+ [x for x in range(46, 58) if x not in (list(range(54, 58))+[47])],\n",
    "\t'stock': range(46),\n",
    "\t'fund': range(46, 59),\n",
    "\t'fund+sentiment': range(46, 60),\n",
    "\t'stock+fund': range(59),\n",
    "\t'F_r12_2+sentiment': [58, 59],\n",
    "\t'stock+sentiment': [59]+list(range(0, 46)),\n",
    "\t'stock+fund+sentiment': range(60),\n",
    "\t'F_r12_2+flow+sentiment': [47, 58, 59]\n",
    "}"
   ],
   "id": "c67d5e32e1a3c6f5"
  },
  {
   "metadata": {
    "ExecuteTime": {
     "end_time": "2024-10-11T06:52:32.475190Z",
     "start_time": "2024-10-11T06:52:32.455006Z"
    }
   },
   "cell_type": "code",
   "source": [
    "config = {\n",
    "\t'data_path': \"./deep_learning/datasets/CharAll_na_rm_huge_train_variableall4_sentiment_full_new.npz\",\n",
    "\t'split_lists_path': './deep_learning/sampling_folds/random_sampling_folds.npy',\n",
    "\t'subset': 'fund+sentiment',\n",
    "\t'num_layers': 1,\n",
    "\t'hidden_dim': [2**6],\n",
    "\t'dropout': 0.,\n",
    "\t'learning_rate': 0.001,\n",
    "\t'epochs': 512,\n",
    "\t'weighted_loss': False,\n",
    "\t'reg_l1': 0.0,\n",
    "\t'reg_l2': 0.001,\n",
    "\t'batch_size': 300000,\n",
    "\t'criteria': 'Factor_sharpe',\n",
    "\t'ensemble_members': 8,\n",
    "\t'random_seed': 15,\n",
    "\t'device': 'cuda' if torch.cuda.is_available() else 'cpu',\n",
    "\t'num_workers': 4\n",
    "}\n",
    "\n",
    "config['split_lists'] = np.load(config['split_lists_path'], allow_pickle = True)\n",
    "config['input_dim'] = len(subset2col[config['subset']])"
   ],
   "id": "fbf2dd22cac95c33",
   "outputs": [],
   "execution_count": 4
  },
  {
   "metadata": {
    "ExecuteTime": {
     "end_time": "2024-10-11T06:32:23.414962Z",
     "start_time": "2024-10-11T06:32:23.409104Z"
    }
   },
   "cell_type": "code",
   "source": [
    "model = DeepNetwork(config).to(device=config['device'])\n",
    "print(model)"
   ],
   "id": "8e5ece52bc6fe185",
   "outputs": [
    {
     "name": "stdout",
     "output_type": "stream",
     "text": [
      "Deep_Network(\n",
      "  (hidden_layers): ModuleList(\n",
      "    (0): Linear(in_features=14, out_features=64, bias=True)\n",
      "  )\n",
      "  (output_layer): Linear(in_features=64, out_features=1, bias=True)\n",
      ")\n"
     ]
    }
   ],
   "execution_count": 59
  },
  {
   "metadata": {
    "ExecuteTime": {
     "end_time": "2024-10-11T02:49:56.343213Z",
     "start_time": "2024-10-11T02:49:47.704382Z"
    }
   },
   "cell_type": "code",
   "source": [
    "crossval_loaders, masks = get_crossval_dataloaders(config['data_path'], config['split_lists'], 'fund+sentiment', batch_size=config['batch_size'])\n",
    "\n",
    "for i in range(len(crossval_loaders)):\n",
    "\tprint('Cross-validation fold {}'.format(i+1))\n",
    "\tfor j in crossval_loaders[i]['datasets']:\n",
    "\t\tprint(len(j))\n",
    "\tprint('')"
   ],
   "id": "33bf3fb7b7566b51",
   "outputs": [
    {
     "name": "stdout",
     "output_type": "stream",
     "text": [
      "Cross-validation fold 1\n",
      "208161\n",
      "68181\n",
      "130816\n",
      "\n",
      "Cross-validation fold 2\n",
      "198258\n",
      "68181\n",
      "140719\n",
      "\n",
      "Cross-validation fold 3\n",
      "208191\n",
      "63344\n",
      "135623\n",
      "\n"
     ]
    }
   ],
   "execution_count": 41
  },
  {
   "metadata": {
    "ExecuteTime": {
     "end_time": "2024-10-11T02:49:56.349412Z",
     "start_time": "2024-10-11T02:49:56.345218Z"
    }
   },
   "cell_type": "code",
   "source": [
    "fold = 0\n",
    "train, val, test = crossval_loaders[fold]['datasets']\n",
    "train_loader, val_loader, test_loader = crossval_loaders[fold]['dataloaders']\n",
    "train_mask, val_mask, test_mask = masks[fold]"
   ],
   "id": "469cb60fba4040d9",
   "outputs": [],
   "execution_count": 42
  },
  {
   "metadata": {},
   "cell_type": "code",
   "source": [
    "optimizer = torch.optim.Adam(model.parameters(), lr=config['learning_rate'], weight_decay=config['reg_l2'])\n",
    "criterion = torch.nn.MSELoss()\n",
    "\n",
    "best_model_state = model.state_dict()\n",
    "best_val_loss = torch.tensor(float('inf'))\n",
    "best_val_sharpe = torch.tensor(-float('inf'))\n",
    "sharpe_train = []\n",
    "sharpe_val = []\n",
    "loss_train = []\n",
    "loss_val = []\n",
    "\n",
    "run = 0\n",
    "time_start = time.time()\n",
    "for epoch in range(config['epochs']):\n",
    "\tepoch_loss = torch.tensor(0.0)\n",
    "\ty_train = []\n",
    "\ty_pred_train = []\n",
    "\tfor i, (X, y) in enumerate(train_loader):\n",
    "\t\tX, y = X.float().to(config['device']), y.float().to(config['device'])\n",
    "\t\toptimizer.zero_grad()\n",
    "\t\ty_pred = model(X)\n",
    "\t\t\n",
    "\t\tloss = criterion(y_pred, y)\t\n",
    "\t\tloss.backward()\n",
    "\t\toptimizer.step()\t\n",
    "\t\tepoch_loss += loss.detach().cpu().item()\n",
    "\t\t\n",
    "\t\ty_train.append(y.detach().cpu())\n",
    "\t\ty_pred_train.append(y_pred.detach().cpu())\n",
    "\t\t\n",
    "\tepoch_loss /= i + 1\n",
    "\ty_train = torch.cat(y_train, dim=0)\n",
    "\ty_pred_train = torch.cat(y_pred_train, dim=0)\n",
    "\t\n",
    "\tsharpe_train_value = evaluate_sharpe(y_pred_train, y_train, train_mask)\n",
    "\tepoch_sharpe = sharpe_train_value\n",
    "\tsharpe_train.append(epoch_sharpe)\n",
    "\tloss_train.append(epoch_loss)\n",
    "\t\n",
    "\t# Validation\n",
    "\twith torch.no_grad():\n",
    "\t\tepoch_val_loss = torch.tensor(0.0)\n",
    "\t\ty_val = []\n",
    "\t\ty_pred_val = []\n",
    "\t\tfor i, (X, y) in enumerate(val_loader):\n",
    "\t\t\tX, y = X.float().to(config['device']), y.float().to(config['device'])\n",
    "\t\t\ty_pred = model(X)\n",
    "\t\t\tloss = criterion(y_pred, y)\n",
    "\t\t\tepoch_val_loss += loss.detach().cpu().item()\n",
    "\t\t\t\n",
    "\t\t\ty_val.append(y.detach().cpu())\n",
    "\t\t\ty_pred_val.append(y_pred.detach().cpu())\n",
    "\t\t\t\n",
    "\tepoch_val_loss /= i + 1\n",
    "\ty_val = torch.cat(y_val, dim=0)\n",
    "\ty_pred_val = torch.cat(y_pred_val, dim=0)\n",
    "\t\n",
    "\tsharpe_val_value = evaluate_sharpe(y_pred_val, y_val, val_mask)\n",
    "\tepoch_val_sharpe = sharpe_val_value\n",
    "\tsharpe_val.append(epoch_val_sharpe)\n",
    "\tloss_val.append(epoch_val_loss)\n",
    "\t\n",
    "\tif epoch <= 50 or epoch % 10 == 0:\n",
    "\t\tprint('Epoch {} - Training Loss: {:.8f}, Val Loss: {:.8f}, Train Sharpe: {:.8f}, Validation Sharpe: {:.8f}'.format(epoch+1, epoch_loss, epoch_val_loss, epoch_sharpe, epoch_val_sharpe))\n",
    "\t\n",
    "\tif config['criteria'] == 'Factor_sharpe':\n",
    "\t\tif epoch_val_sharpe > best_val_sharpe:\n",
    "\t\t\tbest_val_sharpe = epoch_val_sharpe\n",
    "\t\t\tbest_model_state = model.state_dict()\n",
    "\t\t\tprint(\"Best model updated at epoch {}\".format(epoch+1))\n",
    "\t\t\tif epoch > 50 and epoch % 10 != 0:\n",
    "\t\t\t\tprint('Epoch {} - Training Loss: {:.8f}, Val Loss: {:.8f}, Train Sharpe: {:.8f}, Validation Sharpe: {:.8f}'.format(epoch+1, epoch_loss, epoch_val_loss, epoch_sharpe, epoch_val_sharpe))\n",
    "\t\n",
    "\telif epoch_val_loss < best_val_loss:\n",
    "\t\tbest_val_loss = epoch_val_loss\n",
    "\t\tbest_model_state = model.state_dict()\n",
    "\t\tprint(\"Best model updated at epoch {}\".format(epoch+1))\n",
    "\t\tif epoch > 50 and epoch % 10 != 0:\n",
    "\t\t\tprint('Epoch {} - Training Loss: {:.8f}, Val Loss: {:.8f}, Train Sharpe: {:.8f}, Validation Sharpe: {:.8f}'.format(epoch+1, epoch_loss, epoch_val_loss, epoch_sharpe, epoch_val_sharpe))\n",
    "\n",
    "exp_path = './Experiments/'\n",
    "exp_subset_path = os.path.join(exp_path, config['subset'])\n",
    "if not os.path.exists(exp_subset_path):\n",
    "\tos.makedirs(exp_subset_path)\n",
    "\n",
    "model.load_state_dict(best_model_state)\n",
    "time_stamp = datetime.datetime.today().strftime('%Y%m%d_%H%M')\n",
    "model_save_path = os.path.join(exp_subset_path, 'fold' + str(fold+1) + '_' + 'model' + str(run) + '_' + config['subset'] + '_' + time_stamp + '.pth')\n",
    "torch.save(model, model_save_path)\n",
    "\n",
    "duration = time.time() - time_start\n",
    "print('Training completed in {:.0f}m {:.0f}s'.format(duration // 60, duration % 60))"
   ],
   "id": "e847033d7d69c0aa",
   "outputs": [],
   "execution_count": null
  },
  {
   "metadata": {
    "ExecuteTime": {
     "end_time": "2024-10-12T06:43:09.219460Z",
     "start_time": "2024-10-12T06:42:36.177061Z"
    }
   },
   "cell_type": "code",
   "source": [
    "avg_sharpe_fold_ens = 0.\n",
    "for fold in range(len(crossval_loaders)):\n",
    "\tmodel_dirs = os.path.join('./Experiments/', config['subset'], 'fold' + str(fold+1))\n",
    "\tensemble = DeepEnsemble(config, model_dirs)\n",
    "\t\n",
    "\tcrossval_loaders, masks = get_crossval_dataloaders(config['data_path'], config['split_lists'], config['subset'], batch_size=config['batch_size'])\n",
    "\t_, _, test_loader = crossval_loaders[fold]['dataloaders']\n",
    "\tX_test, y_test = unload_data(test_loader)\n",
    "\t_, _, test_mask = masks[fold]\n",
    "\t\n",
    "\tens_pred_test = ensemble.predict(X_test.float().to(config['device']))\n",
    "\tsharpe_test = evaluate_sharpe(ens_pred_test, y_test, test_mask)\n",
    "\tprint(sharpe_test)\n",
    "\tavg_sharpe_fold_ens += sharpe_test\n",
    "\n",
    "avg_sharpe_fold_ens /= len(crossval_loaders)\n",
    "print(avg_sharpe_fold_ens)"
   ],
   "id": "a9facfea55596a11",
   "outputs": [
    {
     "name": "stdout",
     "output_type": "stream",
     "text": [
      "0.2791329795217465\n",
      "0.2696935834940383\n",
      "0.35179379455751314\n",
      "0.300206785857766\n"
     ]
    }
   ],
   "execution_count": 9
  },
  {
   "metadata": {
    "ExecuteTime": {
     "end_time": "2024-10-12T06:43:09.223380Z",
     "start_time": "2024-10-12T06:43:09.220466Z"
    }
   },
   "cell_type": "code",
   "source": [
    "config['subset'] = 'fund_ex_mom_flow'\n",
    "config['input_dim'] = len(subset2col[config['subset']])"
   ],
   "id": "1afbfe28e228ceda",
   "outputs": [],
   "execution_count": 10
  },
  {
   "metadata": {},
   "cell_type": "code",
   "source": [
    "crossval_loaders, masks = get_crossval_dataloaders(config['data_path'], config['split_lists'], config['subset'], batch_size=config['batch_size'])\n",
    "\n",
    "avg_loss_fold = {'train': 0.0, 'val': 0.0, 'test': 0.0}\n",
    "avg_sharpe_fold = {'train': 0.0, 'val': 0.0, 'test': 0.0}\n",
    "\n",
    "for fold in range(len(crossval_loaders)):\n",
    "\tprint('\\nRUNNING FOLD NO. {}'.format(fold+1))\n",
    "\tavg_loss_ens, avg_sharpe_ens = train_ensembles(config, crossval_loaders, masks, fold, config['ensemble_members'])\n",
    "\t\n",
    "\tavg_loss_fold['train'] += avg_loss_ens['train']\n",
    "\tavg_loss_fold['val'] += avg_loss_ens['val']\n",
    "\tavg_loss_fold['test'] += avg_loss_ens['test']\n",
    "\t\n",
    "\tavg_sharpe_fold['train'] += avg_sharpe_ens['train']\n",
    "\tavg_sharpe_fold['val'] += avg_sharpe_ens['val']\n",
    "\tavg_sharpe_fold['test'] += avg_sharpe_ens['test']\n",
    "\n",
    "avg_loss_fold = {key: value / (len(crossval_loaders)) for key, value in avg_loss_fold.items()}\n",
    "avg_sharpe_fold = {key: value / (len(crossval_loaders)) for key, value in avg_sharpe_fold.items()}\n",
    "\n",
    "print(avg_loss_fold)\n",
    "print(avg_sharpe_fold)"
   ],
   "id": "e7b272af424b6fc",
   "outputs": [],
   "execution_count": null
  },
  {
   "metadata": {
    "ExecuteTime": {
     "end_time": "2024-10-13T06:15:07.065185Z",
     "start_time": "2024-10-13T06:14:37.148188Z"
    }
   },
   "cell_type": "code",
   "source": [
    "avg_sharpe_fold_ens = 0.\n",
    "for fold in range(len(crossval_loaders)):\n",
    "\tmodel_dirs = os.path.join('./Experiments/', config['subset'], 'fold' + str(fold+1))\n",
    "\tensemble = DeepEnsemble(config, model_dirs)\n",
    "\t\n",
    "\tcrossval_loaders, masks = get_crossval_dataloaders(config['data_path'], config['split_lists'], config['subset'], batch_size=config['batch_size'])\n",
    "\t_, _, test_loader = crossval_loaders[fold]['dataloaders']\n",
    "\tX_test, y_test = unload_data(test_loader)\n",
    "\t_, _, test_mask = masks[fold]\n",
    "\t\n",
    "\tens_pred_test = ensemble.predict(X_test.float().to(config['device']))\n",
    "\tsharpe_test = evaluate_sharpe(ens_pred_test, y_test, test_mask)\n",
    "\tprint(sharpe_test)\n",
    "\tavg_sharpe_fold_ens += sharpe_test\n",
    "\n",
    "avg_sharpe_fold_ens /= len(crossval_loaders)\n",
    "print(avg_sharpe_fold_ens)"
   ],
   "id": "d82b4d3134a04e2e",
   "outputs": [
    {
     "name": "stdout",
     "output_type": "stream",
     "text": [
      "0.00015002249363720127\n",
      "0.10384931098224807\n",
      "0.06541024123059637\n",
      "0.056469858235493886\n"
     ]
    }
   ],
   "execution_count": 12
  },
  {
   "metadata": {
    "ExecuteTime": {
     "end_time": "2024-10-13T06:15:07.070100Z",
     "start_time": "2024-10-13T06:15:07.066191Z"
    }
   },
   "cell_type": "code",
   "source": [
    "config['subset'] = 'stock+fund'\n",
    "config['input_dim'] = len(subset2col[config['subset']])"
   ],
   "id": "9d5b4c67a7d66b93",
   "outputs": [],
   "execution_count": 13
  },
  {
   "metadata": {},
   "cell_type": "code",
   "source": [
    "crossval_loaders, masks = get_crossval_dataloaders(config['data_path'], config['split_lists'], config['subset'], batch_size=config['batch_size'])\n",
    "\n",
    "avg_loss_fold = {'train': 0.0, 'val': 0.0, 'test': 0.0}\n",
    "avg_sharpe_fold = {'train': 0.0, 'val': 0.0, 'test': 0.0}\n",
    "\n",
    "for fold in range(len(crossval_loaders)):\n",
    "\tprint('\\nRUNNING FOLD NO. {}'.format(fold+1))\n",
    "\tavg_loss_ens, avg_sharpe_ens = train_ensembles(config, crossval_loaders, masks, fold, config['ensemble_members'])\n",
    "\t\n",
    "\tavg_loss_fold['train'] += avg_loss_ens['train']\n",
    "\tavg_loss_fold['val'] += avg_loss_ens['val']\n",
    "\tavg_loss_fold['test'] += avg_loss_ens['test']\n",
    "\t\n",
    "\tavg_sharpe_fold['train'] += avg_sharpe_ens['train']\n",
    "\tavg_sharpe_fold['val'] += avg_sharpe_ens['val']\n",
    "\tavg_sharpe_fold['test'] += avg_sharpe_ens['test']\n",
    "\n",
    "avg_loss_fold = {key: value / (len(crossval_loaders)) for key, value in avg_loss_fold.items()}\n",
    "avg_sharpe_fold = {key: value / (len(crossval_loaders)) for key, value in avg_sharpe_fold.items()}\n",
    "\n",
    "print(avg_loss_fold)\n",
    "print(avg_sharpe_fold)"
   ],
   "id": "3304e57ceab80582",
   "outputs": [],
   "execution_count": null
  },
  {
   "metadata": {
    "ExecuteTime": {
     "end_time": "2024-10-14T06:49:53.055292Z",
     "start_time": "2024-10-14T06:48:58.344788Z"
    }
   },
   "cell_type": "code",
   "source": [
    "avg_sharpe_fold_ens = 0.\n",
    "for fold in range(len(crossval_loaders)):\n",
    "\tmodel_dirs = os.path.join('./Experiments/', config['subset'], 'fold' + str(fold+1))\n",
    "\tensemble = DeepEnsemble(config, model_dirs)\n",
    "\t\n",
    "\tcrossval_loaders, masks = get_crossval_dataloaders(config['data_path'], config['split_lists'], config['subset'], batch_size=config['batch_size'])\n",
    "\t_, _, test_loader = crossval_loaders[fold]['dataloaders']\n",
    "\tX_test, y_test = unload_data(test_loader)\n",
    "\t_, _, test_mask = masks[fold]\n",
    "\t\n",
    "\tens_pred_test = ensemble.predict(X_test.float().to(config['device']))\n",
    "\tsharpe_test = evaluate_sharpe(ens_pred_test, y_test, test_mask)\n",
    "\tprint(sharpe_test)\n",
    "\tavg_sharpe_fold_ens += sharpe_test\n",
    "\n",
    "avg_sharpe_fold_ens /= len(crossval_loaders)\n",
    "print(avg_sharpe_fold_ens)"
   ],
   "id": "1fcd40614daf9f9",
   "outputs": [
    {
     "name": "stdout",
     "output_type": "stream",
     "text": [
      "0.09801895666399872\n",
      "0.1920559573122067\n",
      "0.14477015631698126\n",
      "0.14494835676439558\n"
     ]
    }
   ],
   "execution_count": 16
  }
 ],
 "metadata": {
  "kernelspec": {
   "display_name": "Python 3",
   "language": "python",
   "name": "python3"
  },
  "language_info": {
   "codemirror_mode": {
    "name": "ipython",
    "version": 2
   },
   "file_extension": ".py",
   "mimetype": "text/x-python",
   "name": "python",
   "nbconvert_exporter": "python",
   "pygments_lexer": "ipython2",
   "version": "2.7.6"
  }
 },
 "nbformat": 4,
 "nbformat_minor": 5
}
